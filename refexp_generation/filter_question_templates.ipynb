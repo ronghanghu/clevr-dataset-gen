{
 "cells": [
  {
   "cell_type": "code",
   "execution_count": 1,
   "metadata": {},
   "outputs": [],
   "source": [
    "import json\n",
    "from glob import glob"
   ]
  },
  {
   "cell_type": "code",
   "execution_count": 2,
   "metadata": {},
   "outputs": [],
   "source": [
    "meta_file = './metadata.json'\n",
    "template_files = glob('./CLEVR_1.0_templates/*.json')\n",
    "save_file = './CLEVR_loc_templates/loc_templates.json'"
   ]
  },
  {
   "cell_type": "code",
   "execution_count": 3,
   "metadata": {},
   "outputs": [],
   "source": [
    "with open(meta_file) as f:\n",
    "    functions = json.load(f)['functions']\n",
    "# functions that can succeed filter_unique\n",
    "unary_functions = [f for f in functions if f['inputs'] == ['Object'] and 'side_inputs' not in f]\n",
    "unq_names = set(['unique', 'filter_unique', 'relate_filter_unique'])\n",
    "unary_f_names = set([f['name'] for f in unary_functions])\n",
    "\n",
    "template = []\n",
    "for template_file in template_files:\n",
    "    with open(template_file) as f:\n",
    "        template += json.load(f)"
   ]
  },
  {
   "cell_type": "code",
   "execution_count": 4,
   "metadata": {},
   "outputs": [],
   "source": [
    "def is_valid_template(template):\n",
    "    nodes = template['nodes']\n",
    "    if nodes[-2]['type'] in unq_names and nodes[-1]['type'] in unary_f_names:\n",
    "        return True\n",
    "\n",
    "    return False"
   ]
  },
  {
   "cell_type": "code",
   "execution_count": 5,
   "metadata": {},
   "outputs": [],
   "source": [
    "valid_templates = [t for t in template if is_valid_template(t)]\n",
    "with open(save_file, 'w') as f:\n",
    "    json.dump(valid_templates, f, separators=(',\\n', ': '))"
   ]
  },
  {
   "cell_type": "code",
   "execution_count": 6,
   "metadata": {},
   "outputs": [
    {
     "name": "stdout",
     "output_type": "stream",
     "text": [
      "32\n"
     ]
    }
   ],
   "source": [
    "print(len(valid_templates))"
   ]
  },
  {
   "cell_type": "code",
   "execution_count": 7,
   "metadata": {},
   "outputs": [
    {
     "name": "stdout",
     "output_type": "stream",
     "text": [
      "{'text': ['What size is the <Z2> <C2> <M2> <S2> [that is] <R> the <Z> <C> <M> <S>?', 'What is the size of the <Z2> <C2> <M2> <S2> [that is] <R> the <Z> <C> <M> <S>?', 'How big is the <Z2> <C2> <M2> <S2> [that is] <R> the <Z> <C> <M> <S>?', 'There is a <Z2> <C2> <M2> <S2> [that is] <R> the <Z> <C> <M> <S>; what size is it?', 'There is a <Z2> <C2> <M2> <S2> [that is] <R> the <Z> <C> <M> <S>; how big is it?', 'There is a <Z2> <C2> <M2> <S2> [that is] <R> the <Z> <C> <M> <S>; what is its size?'], 'nodes': [{'type': 'scene', 'inputs': []}, {'side_inputs': ['<Z>', '<C>', '<M>', '<S>'], 'type': 'filter_unique', 'inputs': [0]}, {'side_inputs': ['<R>', '<Z2>', '<C2>', '<M2>', '<S2>'], 'type': 'relate_filter_unique', 'inputs': [1]}, {'type': 'query_size', 'inputs': [2]}], 'constraints': [{'params': ['<Z2>'], 'type': 'NULL'}], 'params': [{'type': 'Size', 'name': '<Z>'}, {'type': 'Color', 'name': '<C>'}, {'type': 'Material', 'name': '<M>'}, {'type': 'Shape', 'name': '<S>'}, {'type': 'Relation', 'name': '<R>'}, {'type': 'Size', 'name': '<Z2>'}, {'type': 'Color', 'name': '<C2>'}, {'type': 'Material', 'name': '<M2>'}, {'type': 'Shape', 'name': '<S2>'}]}\n"
     ]
    }
   ],
   "source": [
    "print(valid_templates[0])"
   ]
  }
 ],
 "metadata": {
  "kernelspec": {
   "display_name": "Python 3",
   "language": "python",
   "name": "python3"
  },
  "language_info": {
   "codemirror_mode": {
    "name": "ipython",
    "version": 3
   },
   "file_extension": ".py",
   "mimetype": "text/x-python",
   "name": "python",
   "nbconvert_exporter": "python",
   "pygments_lexer": "ipython3",
   "version": "3.5.4"
  }
 },
 "nbformat": 4,
 "nbformat_minor": 2
}
